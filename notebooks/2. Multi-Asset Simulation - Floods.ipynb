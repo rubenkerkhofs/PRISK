{
 "cells": [
  {
   "cell_type": "markdown",
   "metadata": {},
   "source": [
    "# Multi-Asset Simulation - Floods\n",
    "The following notebook contains an example of running the PRISK algorithm on a collection of assets. The inclusion of multiple assets introduces interactions because of the insurance link between assets who share the same insurance."
   ]
  },
  {
   "cell_type": "code",
   "execution_count": 1,
   "metadata": {},
   "outputs": [],
   "source": [
    "import numpy as np\n",
    "import pandas as pd\n",
    "\n",
    "from prisk.flood import FloodExposure, FloodEntitySim\n",
    "from prisk.kernel import Kernel\n",
    "from prisk.asset import PowerPlant\n",
    "from prisk.insurance import Insurance\n",
    "from prisk.utils import convert_to_continous_damage"
   ]
  },
  {
   "cell_type": "code",
   "execution_count": 2,
   "metadata": {},
   "outputs": [],
   "source": [
    "TIME_HORIZON = 10\n",
    "n_assets = 100\n",
    "n_insurers = 1"
   ]
  },
  {
   "cell_type": "markdown",
   "metadata": {},
   "source": [
    "## Data description\n",
    "The same type of data is required as for the previous notebooks."
   ]
  },
  {
   "cell_type": "code",
   "execution_count": 3,
   "metadata": {},
   "outputs": [],
   "source": [
    "power = pd.read_excel(\"../Data/power.xlsx\")\n",
    "power.drop_duplicates(subset=[\"Plant / Project name\", \"Type\", \"Capacity (MW)\", \"Country\", \"Owner\"], inplace=True)\n",
    "power.drop(columns=[2], inplace=True)\n",
    "power = power#.sample(n_assets, axis=0)\n",
    "n_assets = power.shape[0]\n",
    "damage_curves = pd.read_excel(\"../Data/damage_curves.xlsx\")\n",
    "continuous_curves = convert_to_continous_damage(damage_curves)\n",
    "return_period_columns = [c for c in power.columns if isinstance(c, int)]"
   ]
  },
  {
   "cell_type": "markdown",
   "metadata": {},
   "source": [
    "## Simulation\n",
    "The simulation will consist of 20 assets and 2 insurers. Each firm is assumed to have the same damage curves."
   ]
  },
  {
   "cell_type": "code",
   "execution_count": 4,
   "metadata": {},
   "outputs": [],
   "source": [
    "assets = []\n",
    "insurers = []\n",
    "\n",
    "for i in range(n_insurers):\n",
    "    insurer = Insurance(\n",
    "        name=f\"Insurer {i}\",\n",
    "        capital=1e9,\n",
    "    )\n",
    "    insurers.append(insurer)\n",
    "\n",
    "for a in range(n_assets):\n",
    "    firm = power.iloc[a]\n",
    "    flood_exposure = [FloodExposure(return_period, firm[return_period]) \n",
    "                    for return_period in return_period_columns if firm[return_period] > 0\n",
    "    ]\n",
    "    production_path = np.repeat(firm[\"Capacity (MW)\"]*24*365, TIME_HORIZON) # Assume constant production path\n",
    "    asset = PowerPlant(\n",
    "        name=firm[\"Plant / Project name\"],\n",
    "        flood_damage_curve=continuous_curves,\n",
    "        flood_exposure=flood_exposure,\n",
    "        production_path=production_path,\n",
    "        replacement_cost=firm[\"Value\"],\n",
    "    )\n",
    "    # Give them a random insurer\n",
    "    asset.add_insurer(np.random.choice(insurers))\n",
    "    assets.append(asset)"
   ]
  },
  {
   "cell_type": "code",
   "execution_count": 5,
   "metadata": {},
   "outputs": [],
   "source": [
    "kernel = Kernel(assets=assets, insurers=insurers)\n",
    "for asset in assets:\n",
    "    FloodEntitySim(asset).simulate(time_horizon=TIME_HORIZON, kernel=kernel)\n",
    "kernel.run(time_horizon=TIME_HORIZON)"
   ]
  },
  {
   "cell_type": "markdown",
   "metadata": {},
   "source": [
    "## Monte Carlo Sim\n",
    "Here the monte carlo simulation is done on all of the assets at the same time."
   ]
  },
  {
   "cell_type": "code",
   "execution_count": 6,
   "metadata": {},
   "outputs": [
    {
     "name": "stderr",
     "output_type": "stream",
     "text": [
      "  0%|          | 0/250 [00:00<?, ?it/s]"
     ]
    }
   ],
   "source": [
    "simulations = 250\n",
    "prisks = pd.DataFrame(columns=[f\"Asset {i}\" for i in range(n_assets)], \n",
    "                      index=[i for i in range(simulations)])\n",
    "components = pd.DataFrame(\n",
    "    columns=[\"asset\", \"run\", \"base_value\", \"replacement\",\n",
    "             \"business_disruption\", \"fair_insurance\",\n",
    "             \"insurance_adjustment\", \"npv\", \"prisk\"]\n",
    ")\n",
    "\n",
    "\n",
    "from tqdm import tqdm\n",
    "for i in tqdm(range(simulations)):\n",
    "    assets = []\n",
    "    insurers = []\n",
    "\n",
    "    for k in range(n_insurers):\n",
    "        insurer = Insurance(\n",
    "            name=f\"Insurer {k}\",\n",
    "            capital=1e9,\n",
    "        )\n",
    "        insurers.append(insurer)\n",
    "\n",
    "    for a in range(n_assets):\n",
    "        firm = power.iloc[a]\n",
    "        flood_exposure = [FloodExposure(return_period, firm[return_period]) \n",
    "                        for return_period in return_period_columns if firm[return_period] > 0\n",
    "        ]\n",
    "        production_path = np.repeat(firm[\"Capacity (MW)\"]*24*365, TIME_HORIZON) # Assume constant production path\n",
    "        asset = PowerPlant(\n",
    "            name=firm[\"Plant / Project name\"],\n",
    "            flood_damage_curve=continuous_curves,\n",
    "            flood_exposure=flood_exposure,\n",
    "            production_path=production_path.copy(),\n",
    "            replacement_cost=firm[\"Value\"],\n",
    "        )\n",
    "        # Give them a random insurer\n",
    "        asset.add_insurer(np.random.choice(insurers))\n",
    "        assets.append(asset)\n",
    "    kernel = Kernel(assets=assets, insurers=insurers)\n",
    "    for asset in assets:\n",
    "        FloodEntitySim(asset).simulate(time_horizon=TIME_HORIZON, kernel=kernel)\n",
    "    kernel.run(time_horizon=TIME_HORIZON, verbose=0)\n",
    "    for j, asset in enumerate(assets):\n",
    "        prisk = max(asset.npv/asset.base_value, 0)\n",
    "        prisks.loc[i, f'Asset {j}'] = prisk\n",
    "    component = pd.DataFrame({\n",
    "            \"asset\": asset.name,\n",
    "            \"run\": i,\n",
    "            \"base_value\": asset.base_value,\n",
    "            \"replacement\": asset.total_replacement_costs,\n",
    "            \"business_disruption\": asset.total_business_disruption,\n",
    "            \"fair_insurance\": asset.total_fair_insurance_premiums,\n",
    "            \"insurance_adjustment\": asset.total_insurance_adjustments,\n",
    "            \"npv\": asset.npv,\n",
    "            \"prisk\": max(asset.npv/asset.base_value, 0)\n",
    "        } for asset in assets)\n",
    "    components = pd.concat([components, component], ignore_index=True)\n",
    "prisks"
   ]
  },
  {
   "cell_type": "code",
   "execution_count": null,
   "metadata": {},
   "outputs": [],
   "source": [
    "power.loc[:, 'prisk'] = list(prisks.mean(axis=0))\n",
    "power.drop(columns=[\"Latitude\", \"Longitude\"], inplace=True)\n",
    "power.to_parquet(\"../results/240617/power_with_prisk_insured.parquet.gzip\", compression=\"gzip\")\n",
    "components.to_parquet(\"../results/240617/components_insured.parquet.gzip\", compression=\"gzip\")\n",
    "prisks.to_parquet(\"../results/240617/prisks_insured.parquet.gzip\", compression=\"gzip\")\n"
   ]
  }
 ],
 "metadata": {
  "kernelspec": {
   "display_name": ".env",
   "language": "python",
   "name": "python3"
  },
  "language_info": {
   "codemirror_mode": {
    "name": "ipython",
    "version": 3
   },
   "file_extension": ".py",
   "mimetype": "text/x-python",
   "name": "python",
   "nbconvert_exporter": "python",
   "pygments_lexer": "ipython3",
   "version": "3.10.13"
  }
 },
 "nbformat": 4,
 "nbformat_minor": 2
}
